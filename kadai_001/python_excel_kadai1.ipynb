{
  "nbformat": 4,
  "nbformat_minor": 0,
  "metadata": {
    "colab": {
      "provenance": []
    },
    "kernelspec": {
      "name": "python3",
      "display_name": "Python 3"
    },
    "language_info": {
      "name": "python"
    }
  },
  "cells": [
    {
      "cell_type": "code",
      "execution_count": 22,
      "metadata": {
        "id": "dhGvphwjOLFS"
      },
      "outputs": [],
      "source": [
        "import openpyxl\n",
        "from datetime import datetime\n",
        "from openpyxl.styles import Font\n",
        "\n",
        "workbook = openpyxl.Workbook()\n",
        "# workbook = openpyxl.load_workbook('sample1.xlsx')\n",
        "# アクティブなシートを取得する（後の節で学習します）\n",
        "ws = workbook.active\n",
        "\n",
        "# 現在の日付（年月日）を取得して、変数todayに代入する\n",
        "today = datetime.today()\n",
        "\n",
        "content_names =['株式会社ABC',\n",
        "                '〒101-0022 東京都千代田区神田練塀町300',\n",
        "                'TEL:03-1234-5678 FAX:03-1234-5678',\n",
        "                '担当者名:鈴木一郎 様'\n",
        "                ]\n",
        "\n",
        "for i in range(0, 4):\n",
        "  ws.cell(row=i+4, column=2, value=content_names[i])\n",
        "\n",
        "# セルに値を書き込む\n",
        "ws['B2'] = \"請求書\"\n",
        "ws['F4'] = \"No.\"\n",
        "ws['F5'] = \"日付\"\n",
        "ws['G4'] = \"0001\"\n",
        "ws['G5'] = f\"{today.strftime('%Y/%m/%d')}\"\n",
        "ws['B10'] = \"商品名\"\n",
        "ws['C10'] = \"数量\"\n",
        "ws['D10'] = \"単価\"\n",
        "ws['E10'] = \"金額\"\n",
        "ws['B11'] = \"商品A\"\n",
        "ws['C11'] = 2\n",
        "ws['D11'] = 10000\n",
        "ws['E11'] = 20000\n",
        "ws['B12'] = \"商品B\"\n",
        "ws['C12'] = 1\n",
        "ws['D12'] = 15000\n",
        "ws['E12'] = 15000\n",
        "ws['E13'] = 35000\n",
        "ws['B15'] = \"小計\"\n",
        "ws['B16'] = \"消費税\"\n",
        "ws['B17'] = \"合計\"\n",
        "ws['E15'] = 35000\n",
        "ws['E16'] = 3500\n",
        "ws['E17'] = 38500\n",
        "\n",
        "backup_filename = f\"請求書_{today.strftime('%Y%m%d')}.xlsx\"\n",
        "\n",
        "workbook.save(backup_filename)\n",
        "\n",
        "# font = Font(bold=True)\n",
        "\n",
        "# ws['A1':'H18'].font = font\n",
        "\n",
        "# Excelファイルを別名保存する\n",
        "# 日付のtodayオブジェクトを、特定のフォーマットで文字列に変換する\n"
      ]
    },
    {
      "cell_type": "markdown",
      "source": [],
      "metadata": {
        "id": "1IhR0BA__IN1"
      }
    },
    {
      "cell_type": "code",
      "source": [],
      "metadata": {
        "id": "mG0aFve1Uaod"
      },
      "execution_count": null,
      "outputs": []
    }
  ]
}